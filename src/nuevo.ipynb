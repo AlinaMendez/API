{
 "cells": [
  {
   "cell_type": "code",
   "execution_count": 2,
   "metadata": {},
   "outputs": [
    {
     "name": "stdout",
     "output_type": "stream",
     "text": [
      "                 created_at  \\\n",
      "0  2022-06-24T19:15:30.000Z   \n",
      "1  2022-06-24T19:13:20.000Z   \n",
      "2  2022-06-24T19:13:02.000Z   \n",
      "3  2022-06-24T19:11:59.000Z   \n",
      "4  2022-06-24T19:11:45.000Z   \n",
      "\n",
      "                                                text            author_id  \\\n",
      "0  #FEATURED #COURSES\\nComplete #Python #Develope...            134434122   \n",
      "1  #include \\n{#AI @HMOIndia we need #meeting to ...  1413614842104012801   \n",
      "2  #100DaysOfCode \\n Python🐍 https://t.co/Qz2WqKe9li  1333843618365313026   \n",
      "3  Learn DataScience from DataCamp\\nPay 59$ on an...  1094022475736903687   \n",
      "4  Coupons Free Discount - Projects in AngularJS ...  1372120672432844801   \n",
      "\n",
      "                    id lang  \n",
      "0  1540413322650177536   en  \n",
      "1  1540412778346856448   en  \n",
      "2  1540412703574999041   cy  \n",
      "3  1540412438306508800   en  \n",
      "4  1540412380525367296   en  \n"
     ]
    }
   ],
   "source": [
    "import os\n",
    "import requests \n",
    "import tweepy\n",
    "import re\n",
    "import pandas as pd \n",
    "import seaborn as sns\n",
    "import matplotlib.pyplot as plt\n",
    "from dotenv import load_dotenv\n",
    "\n",
    "\n",
    "load_dotenv()\n",
    "\n",
    "consumer_key = os.getenv(\"CONSUMER_KEY\")\n",
    "consumer_secret = os.getenv(\"CONSUMER_SECRET\")\n",
    "bearer_token= os.getenv(\"BEARER_TOKEN\")\n",
    "\n",
    "client = tweepy.Client( bearer_token=bearer_token, \n",
    "                        consumer_key=consumer_key, \n",
    "                        consumer_secret=consumer_secret,\n",
    "                        return_type = requests.Response,\n",
    "                        wait_on_rate_limit=True)\n",
    "\n",
    "query = '#100daysofcode (pandas OR python) -is:retweet'      \n",
    "\n",
    "tweets = client.search_recent_tweets(query=query, tweet_fields=['author_id','created_at','lang'], max_results=100)\n",
    "\n",
    "tweets_json = tweets.json()\n",
    "tweets_data = tweets_json[\"data\"]\n",
    "df = pd.json_normalize(tweets_data)\n",
    "print(df.head())"
   ]
  }
 ],
 "metadata": {
  "kernelspec": {
   "display_name": "Python 3.8.13 64-bit ('3.8.13')",
   "language": "python",
   "name": "python3"
  },
  "language_info": {
   "codemirror_mode": {
    "name": "ipython",
    "version": 3
   },
   "file_extension": ".py",
   "mimetype": "text/x-python",
   "name": "python",
   "nbconvert_exporter": "python",
   "pygments_lexer": "ipython3",
   "version": "3.8.13"
  },
  "orig_nbformat": 4,
  "vscode": {
   "interpreter": {
    "hash": "110cc1dee26208153f2972f08a2ad52b6a56238dc66d48e87fb757ef2996db56"
   }
  }
 },
 "nbformat": 4,
 "nbformat_minor": 2
}
